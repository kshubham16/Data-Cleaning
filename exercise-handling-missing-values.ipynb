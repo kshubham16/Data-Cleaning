{
 "cells": [
  {
   "cell_type": "markdown",
   "metadata": {},
   "source": [
    "**This notebook is an exercise in the [Data Cleaning](https://www.kaggle.com/learn/data-cleaning) course.  You can reference the tutorial at [this link](https://www.kaggle.com/alexisbcook/handling-missing-values).**\n",
    "\n",
    "---\n"
   ]
  },
  {
   "cell_type": "markdown",
   "metadata": {},
   "source": [
    "In this exercise, you'll apply what you learned in the **Handling missing values** tutorial.\n",
    "\n",
    "# Setup\n",
    "\n",
    "The questions below will give you feedback on your work. Run the following cell to set up the feedback system."
   ]
  },
  {
   "cell_type": "code",
   "execution_count": 2,
   "metadata": {
    "execution": {
     "iopub.execute_input": "2022-06-22T12:40:48.921096Z",
     "iopub.status.busy": "2022-06-22T12:40:48.920657Z",
     "iopub.status.idle": "2022-06-22T12:40:52.893505Z",
     "shell.execute_reply": "2022-06-22T12:40:52.892271Z",
     "shell.execute_reply.started": "2022-06-22T12:40:48.921009Z"
    }
   },
   "outputs": [],
   "source": [
    "# from learntools.core import binder\n",
    "# binder.bind(globals())\n",
    "# from learntools.data_cleaning.ex1 import *\n",
    "# print(\"Setup Complete\")"
   ]
  },
  {
   "cell_type": "markdown",
   "metadata": {},
   "source": [
    "# 1) Take a first look at the data\n",
    "\n",
    "Run the next code cell to load in the libraries and dataset you'll use to complete the exercise."
   ]
  },
  {
   "cell_type": "code",
   "execution_count": null,
   "metadata": {
    "execution": {
     "iopub.execute_input": "2022-06-22T12:40:55.128537Z",
     "iopub.status.busy": "2022-06-22T12:40:55.127913Z",
     "iopub.status.idle": "2022-06-22T12:40:56.609174Z",
     "shell.execute_reply": "2022-06-22T12:40:56.608086Z",
     "shell.execute_reply.started": "2022-06-22T12:40:55.128502Z"
    }
   },
   "outputs": [],
   "source": [
    "# modules we'll use\n",
    "import pandas as pd\n",
    "import numpy as np\n",
    "\n",
    "# read in all our data\n",
    "sf_permits = pd.read_csv(\"../input/building-permit-applications-data/Building_Permits.csv\")\n",
    "\n",
    "# set seed for reproducibility\n",
    "np.random.seed(0) "
   ]
  },
  {
   "cell_type": "markdown",
   "metadata": {},
   "source": [
    "Use the code cell below to print the first five rows of the `sf_permits` DataFrame."
   ]
  },
  {
   "cell_type": "code",
   "execution_count": null,
   "metadata": {
    "execution": {
     "iopub.execute_input": "2022-06-22T12:41:00.598463Z",
     "iopub.status.busy": "2022-06-22T12:41:00.59809Z",
     "iopub.status.idle": "2022-06-22T12:41:00.635058Z",
     "shell.execute_reply": "2022-06-22T12:41:00.633739Z",
     "shell.execute_reply.started": "2022-06-22T12:41:00.598433Z"
    }
   },
   "outputs": [],
   "source": [
    "# TODO: Your code here!\n",
    "sf_permits.head()"
   ]
  },
  {
   "cell_type": "markdown",
   "metadata": {},
   "source": [
    "Does the dataset have any missing values?  Once you have an answer, run the code cell below to get credit for your work."
   ]
  },
  {
   "cell_type": "code",
   "execution_count": null,
   "metadata": {
    "execution": {
     "iopub.execute_input": "2022-06-22T12:41:06.786466Z",
     "iopub.status.busy": "2022-06-22T12:41:06.786078Z",
     "iopub.status.idle": "2022-06-22T12:41:06.79657Z",
     "shell.execute_reply": "2022-06-22T12:41:06.795334Z",
     "shell.execute_reply.started": "2022-06-22T12:41:06.786432Z"
    }
   },
   "outputs": [],
   "source": [
    "# Check your answer (Run this code cell to receive credit!)\n",
    "q1.check()"
   ]
  },
  {
   "cell_type": "code",
   "execution_count": null,
   "metadata": {
    "execution": {
     "iopub.execute_input": "2022-06-22T12:41:13.675134Z",
     "iopub.status.busy": "2022-06-22T12:41:13.674772Z",
     "iopub.status.idle": "2022-06-22T12:41:13.679006Z",
     "shell.execute_reply": "2022-06-22T12:41:13.678207Z",
     "shell.execute_reply.started": "2022-06-22T12:41:13.675104Z"
    }
   },
   "outputs": [],
   "source": [
    "# Line below will give you a hint\n",
    "# q1.hint()"
   ]
  },
  {
   "cell_type": "markdown",
   "metadata": {},
   "source": [
    "# 2) How many missing data points do we have?\n",
    "\n",
    "What percentage of the values in the dataset are missing?  Your answer should be a number between 0 and 100.  (If 1/4 of the values in the dataset are missing, the answer is 25.)"
   ]
  },
  {
   "cell_type": "code",
   "execution_count": null,
   "metadata": {
    "execution": {
     "iopub.execute_input": "2022-06-22T12:41:19.394678Z",
     "iopub.status.busy": "2022-06-22T12:41:19.394332Z",
     "iopub.status.idle": "2022-06-22T12:41:19.631847Z",
     "shell.execute_reply": "2022-06-22T12:41:19.63078Z",
     "shell.execute_reply.started": "2022-06-22T12:41:19.394649Z"
    }
   },
   "outputs": [],
   "source": [
    "# TODO: Your code here!\n",
    "# get the number of missing data points per column\n",
    "missing_values_count = sf_permits.isnull().sum()\n",
    "\n",
    "# how many total missing values do we have?\n",
    "total_cells = np.product(sf_permits.shape)\n",
    "total_missing = missing_values_count.sum()\n",
    "\n",
    "# percent of data that is missing\n",
    "percent_missing = (total_missing/total_cells) * 100\n",
    "\n",
    "# Check your answer\n",
    "q2.check()"
   ]
  },
  {
   "cell_type": "code",
   "execution_count": null,
   "metadata": {
    "execution": {
     "iopub.execute_input": "2022-06-22T12:41:28.655895Z",
     "iopub.status.busy": "2022-06-22T12:41:28.655496Z",
     "iopub.status.idle": "2022-06-22T12:41:28.660658Z",
     "shell.execute_reply": "2022-06-22T12:41:28.65971Z",
     "shell.execute_reply.started": "2022-06-22T12:41:28.65586Z"
    }
   },
   "outputs": [],
   "source": [
    "# Lines below will give you a hint or solution code\n",
    "# q2.hint()\n",
    "# q2.solution()"
   ]
  },
  {
   "cell_type": "markdown",
   "metadata": {},
   "source": [
    "# 3) Figure out why the data is missing\n",
    "\n",
    "Look at the columns **\"Street Number Suffix\"** and **\"Zipcode\"** from the [San Francisco Building Permits dataset](https://www.kaggle.com/aparnashastry/building-permit-applications-data). Both of these contain missing values. \n",
    "- Which, if either, are missing because they don't exist? \n",
    "- Which, if either, are missing because they weren't recorded?  \n",
    "\n",
    "Once you have an answer, run the code cell below."
   ]
  },
  {
   "cell_type": "code",
   "execution_count": null,
   "metadata": {
    "execution": {
     "iopub.execute_input": "2022-06-22T12:30:58.362529Z",
     "iopub.status.busy": "2022-06-22T12:30:58.361997Z",
     "iopub.status.idle": "2022-06-22T12:30:58.374922Z",
     "shell.execute_reply": "2022-06-22T12:30:58.373438Z",
     "shell.execute_reply.started": "2022-06-22T12:30:58.362485Z"
    }
   },
   "outputs": [],
   "source": [
    "# Check your answer (Run this code cell to receive credit!)\n",
    "# q3.check()"
   ]
  },
  {
   "cell_type": "code",
   "execution_count": null,
   "metadata": {
    "execution": {
     "iopub.execute_input": "2022-06-22T12:31:04.888261Z",
     "iopub.status.busy": "2022-06-22T12:31:04.887724Z",
     "iopub.status.idle": "2022-06-22T12:31:04.899997Z",
     "shell.execute_reply": "2022-06-22T12:31:04.898686Z",
     "shell.execute_reply.started": "2022-06-22T12:31:04.888214Z"
    }
   },
   "outputs": [],
   "source": [
    "# Line below will give you a hint\n",
    "# q3.hint()"
   ]
  },
  {
   "cell_type": "markdown",
   "metadata": {},
   "source": [
    "# 4) Drop missing values: rows\n",
    "\n",
    "If you removed all of the rows of `sf_permits` with missing values, how many rows are left?\n",
    "\n",
    "**Note**: Do not change the value of `sf_permits` when checking this.  "
   ]
  },
  {
   "cell_type": "code",
   "execution_count": null,
   "metadata": {
    "execution": {
     "iopub.execute_input": "2022-06-22T12:41:52.635686Z",
     "iopub.status.busy": "2022-06-22T12:41:52.634612Z",
     "iopub.status.idle": "2022-06-22T12:41:52.882382Z",
     "shell.execute_reply": "2022-06-22T12:41:52.881137Z",
     "shell.execute_reply.started": "2022-06-22T12:41:52.63565Z"
    }
   },
   "outputs": [],
   "source": [
    "# TODO: Your code here!\n",
    "sf_permits.dropna()"
   ]
  },
  {
   "cell_type": "markdown",
   "metadata": {},
   "source": [
    "Once you have an answer, run the code cell below."
   ]
  },
  {
   "cell_type": "code",
   "execution_count": null,
   "metadata": {
    "execution": {
     "iopub.execute_input": "2022-06-22T12:42:05.846189Z",
     "iopub.status.busy": "2022-06-22T12:42:05.845843Z",
     "iopub.status.idle": "2022-06-22T12:42:05.850549Z",
     "shell.execute_reply": "2022-06-22T12:42:05.849601Z",
     "shell.execute_reply.started": "2022-06-22T12:42:05.84616Z"
    }
   },
   "outputs": [],
   "source": [
    "# Check your answer (Run this code cell to receive credit!)\n",
    "# q4.check()"
   ]
  },
  {
   "cell_type": "code",
   "execution_count": null,
   "metadata": {
    "execution": {
     "iopub.execute_input": "2022-06-22T12:42:12.459579Z",
     "iopub.status.busy": "2022-06-22T12:42:12.459189Z",
     "iopub.status.idle": "2022-06-22T12:42:12.464322Z",
     "shell.execute_reply": "2022-06-22T12:42:12.463158Z",
     "shell.execute_reply.started": "2022-06-22T12:42:12.459543Z"
    }
   },
   "outputs": [],
   "source": [
    "# Line below will give you a hint\n",
    "# q4.hint()"
   ]
  },
  {
   "cell_type": "markdown",
   "metadata": {},
   "source": [
    "# 5) Drop missing values: columns\n",
    "\n",
    "Now try removing all the columns with empty values.  \n",
    "- Create a new DataFrame called `sf_permits_with_na_dropped` that has all of the columns with empty values removed.  \n",
    "- How many columns were removed from the original `sf_permits` DataFrame? Use this number to set the value of the `dropped_columns` variable below."
   ]
  },
  {
   "cell_type": "code",
   "execution_count": null,
   "metadata": {
    "execution": {
     "iopub.execute_input": "2022-06-22T12:42:18.153799Z",
     "iopub.status.busy": "2022-06-22T12:42:18.152864Z",
     "iopub.status.idle": "2022-06-22T12:42:18.411104Z",
     "shell.execute_reply": "2022-06-22T12:42:18.409852Z",
     "shell.execute_reply.started": "2022-06-22T12:42:18.153759Z"
    }
   },
   "outputs": [],
   "source": [
    "# TODO: Your code here\n",
    "# remove all columns with at least one missing value\n",
    "sf_permits_with_na_dropped = sf_permits.dropna(axis=1)\n",
    "\n",
    "# calculate number of dropped columns\n",
    "cols_in_original_dataset = sf_permits.shape[1]\n",
    "cols_in_na_dropped = sf_permits_with_na_dropped.shape[1]\n",
    "dropped_columns = cols_in_original_dataset - cols_in_na_dropped\n",
    "\n",
    "# Check your answer\n",
    "q5.check()"
   ]
  },
  {
   "cell_type": "code",
   "execution_count": null,
   "metadata": {
    "execution": {
     "iopub.execute_input": "2022-06-22T12:42:25.926591Z",
     "iopub.status.busy": "2022-06-22T12:42:25.925567Z",
     "iopub.status.idle": "2022-06-22T12:42:25.931027Z",
     "shell.execute_reply": "2022-06-22T12:42:25.929963Z",
     "shell.execute_reply.started": "2022-06-22T12:42:25.926544Z"
    }
   },
   "outputs": [],
   "source": [
    "# Lines below will give you a hint or solution code\n",
    "# q5.hint()\n",
    "# q5.solution()"
   ]
  },
  {
   "cell_type": "markdown",
   "metadata": {},
   "source": [
    "# 6) Fill in missing values automatically\n",
    "\n",
    "Try replacing all the NaN's in the `sf_permits` data with the one that comes directly after it and then replacing any remaining NaN's with 0.  Set the result to a new DataFrame `sf_permits_with_na_imputed`."
   ]
  },
  {
   "cell_type": "code",
   "execution_count": null,
   "metadata": {
    "execution": {
     "iopub.execute_input": "2022-06-22T12:42:30.838735Z",
     "iopub.status.busy": "2022-06-22T12:42:30.837685Z",
     "iopub.status.idle": "2022-06-22T12:42:31.707192Z",
     "shell.execute_reply": "2022-06-22T12:42:31.706037Z",
     "shell.execute_reply.started": "2022-06-22T12:42:30.838685Z"
    }
   },
   "outputs": [],
   "source": [
    "# TODO: Your code here\n",
    "sf_permits_with_na_imputed = sf_permits.fillna(method='bfill', axis=0).fillna(0)\n",
    "\n",
    "# Check your answer\n",
    "q6.check()"
   ]
  },
  {
   "cell_type": "code",
   "execution_count": null,
   "metadata": {
    "execution": {
     "iopub.execute_input": "2022-06-22T12:42:48.421991Z",
     "iopub.status.busy": "2022-06-22T12:42:48.4216Z",
     "iopub.status.idle": "2022-06-22T12:42:48.425797Z",
     "shell.execute_reply": "2022-06-22T12:42:48.424905Z",
     "shell.execute_reply.started": "2022-06-22T12:42:48.421959Z"
    }
   },
   "outputs": [],
   "source": [
    "# Lines below will give you a hint or solution code\n",
    "# q6.hint()\n",
    "# q6.solution()"
   ]
  },
  {
   "cell_type": "markdown",
   "metadata": {},
   "source": [
    "# More practice\n",
    "\n",
    "If you're looking for more practice handling missing values:\n",
    "\n",
    "* Check out [this noteboook](https://www.kaggle.com/alexisbcook/missing-values) on handling missing values using scikit-learn's imputer. \n",
    "* Look back at the \"Zipcode\" column in the `sf_permits` dataset, which has some missing values. How would you go about figuring out what the actual zipcode of each address should be? (You might try using another dataset. You can search for datasets about San Fransisco on the [Datasets listing](https://www.kaggle.com/datasets).) \n",
    "\n",
    "# Keep going\n",
    "\n",
    "In the next lesson, learn how to [**apply scaling and normalization**](https://www.kaggle.com/alexisbcook/scaling-and-normalization) to transform your data."
   ]
  },
  {
   "cell_type": "markdown",
   "metadata": {},
   "source": [
    "---\n",
    "\n",
    "\n",
    "\n",
    "\n",
    "*Have questions or comments? Visit the [course discussion forum](https://www.kaggle.com/learn/data-cleaning/discussion) to chat with other learners.*"
   ]
  }
 ],
 "metadata": {
  "kernelspec": {
   "display_name": "Python 3 (ipykernel)",
   "language": "python",
   "name": "python3"
  },
  "language_info": {
   "codemirror_mode": {
    "name": "ipython",
    "version": 3
   },
   "file_extension": ".py",
   "mimetype": "text/x-python",
   "name": "python",
   "nbconvert_exporter": "python",
   "pygments_lexer": "ipython3",
   "version": "3.9.7"
  }
 },
 "nbformat": 4,
 "nbformat_minor": 4
}
